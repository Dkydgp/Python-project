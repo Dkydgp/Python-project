{
 "cells": [
  {
   "cell_type": "code",
   "execution_count": null,
   "id": "848b7542",
   "metadata": {},
   "outputs": [],
   "source": []
  },
  {
   "cell_type": "code",
   "execution_count": 2,
   "id": "f9838c07",
   "metadata": {},
   "outputs": [],
   "source": [
    "import subprocess"
   ]
  },
  {
   "cell_type": "code",
   "execution_count": 3,
   "id": "f966f27c",
   "metadata": {},
   "outputs": [],
   "source": [
    "data =(\n",
    "    subprocess.check_output([\"netsh\", \"wlan\", \"show\", \"profiles\"])\n",
    "    .decode(\"utf-8\")\n",
    "    .split(\"\\n\"))"
   ]
  },
  {
   "cell_type": "code",
   "execution_count": 4,
   "id": "efe44afd",
   "metadata": {},
   "outputs": [
    {
     "name": "stdout",
     "output_type": "stream",
     "text": [
      "Dipak                         | 00000000\n",
      "NZ 51                         | aabbccd1\n",
      "OnePlus 8T                    | 00000000\n",
      "OPPO A31                      | yadavji22\n",
      "Jiofi2                        | Force@12345\n",
      "Jai Hind ;                    | emms@12345678\n"
     ]
    }
   ],
   "source": [
    "profiles=[i.split(\":\")[1][1:-1] for i in data if \"All User Profile\" in i]\n",
    "for i in profiles:\n",
    "    results=(subprocess.check_output([\"netsh\", \"wlan\", \"show\", \"profile\", i, \"key=clear\"])\n",
    "             .decode(\"utf-8\")\n",
    "             .split(\"\\n\"))\n",
    "    results=[b.split(\":\")[1][1:-1] for b in results if \"Key Content\" in b]\n",
    "    try:\n",
    "        print(\"{:<30}| {:<}\".format(i, results[0]))\n",
    "    except IndexError:\n",
    "        print(\"{:<30}| {:<}\".format(i, \"\"))"
   ]
  },
  {
   "cell_type": "code",
   "execution_count": null,
   "id": "b50db4da",
   "metadata": {},
   "outputs": [],
   "source": []
  }
 ],
 "metadata": {
  "kernelspec": {
   "display_name": "Python 3 (ipykernel)",
   "language": "python",
   "name": "python3"
  },
  "language_info": {
   "codemirror_mode": {
    "name": "ipython",
    "version": 3
   },
   "file_extension": ".py",
   "mimetype": "text/x-python",
   "name": "python",
   "nbconvert_exporter": "python",
   "pygments_lexer": "ipython3",
   "version": "3.9.7"
  }
 },
 "nbformat": 4,
 "nbformat_minor": 5
}
