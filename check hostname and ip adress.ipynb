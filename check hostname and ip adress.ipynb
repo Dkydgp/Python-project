{
 "cells": [
  {
   "cell_type": "code",
   "execution_count": 48,
   "id": "185b54e0",
   "metadata": {},
   "outputs": [],
   "source": [
    "# Get Ipaddress and Hostname of Website\n",
    "# importing socket library\n",
    "import socket\n"
   ]
  },
  {
   "cell_type": "code",
   "execution_count": null,
   "id": "fdca0c6b",
   "metadata": {},
   "outputs": [],
   "source": []
  },
  {
   "cell_type": "code",
   "execution_count": null,
   "id": "71c1d065",
   "metadata": {},
   "outputs": [],
   "source": []
  },
  {
   "cell_type": "code",
   "execution_count": 53,
   "id": "ee0f8dc3",
   "metadata": {},
   "outputs": [
    {
     "name": "stdout",
     "output_type": "stream",
     "text": [
      "Please enter the website address: dipa.com\n",
      "Hostname: dipa.com\n",
      "IP: 206.119.87.32\n"
     ]
    }
   ],
   "source": [
    "def get_hostname_IP():\n",
    "    hostname=input(\"Please enter the website address: \")\n",
    "    try:\n",
    "        print(f'Hostname: {hostname}')\n",
    "        print(f'IP: {socket.gethostbyname(hostname)}')\n",
    "    except socket.gaierror:\n",
    "        print(f'Invalid Hostname, error raised is {error}')\n",
    "get_hostname_IP()\n",
    "        "
   ]
  },
  {
   "cell_type": "code",
   "execution_count": null,
   "id": "dcbf1703",
   "metadata": {},
   "outputs": [],
   "source": []
  }
 ],
 "metadata": {
  "kernelspec": {
   "display_name": "Python 3 (ipykernel)",
   "language": "python",
   "name": "python3"
  },
  "language_info": {
   "codemirror_mode": {
    "name": "ipython",
    "version": 3
   },
   "file_extension": ".py",
   "mimetype": "text/x-python",
   "name": "python",
   "nbconvert_exporter": "python",
   "pygments_lexer": "ipython3",
   "version": "3.9.7"
  }
 },
 "nbformat": 4,
 "nbformat_minor": 5
}
