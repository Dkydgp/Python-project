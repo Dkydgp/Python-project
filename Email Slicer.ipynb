{
 "cells": [
  {
   "cell_type": "code",
   "execution_count": 1,
   "id": "d675ec31",
   "metadata": {},
   "outputs": [],
   "source": [
    "#What is email slicer\n",
    "#In essence, Email Slicer is just a simple tool that will take an email address as an input and slice it to produce the username and the domain associated with it. The email must be divided into two strings by using ‘@’ as the separator."
   ]
  },
  {
   "cell_type": "code",
   "execution_count": null,
   "id": "002b6c5a",
   "metadata": {},
   "outputs": [],
   "source": []
  },
  {
   "cell_type": "code",
   "execution_count": null,
   "id": "42dcb5a6",
   "metadata": {},
   "outputs": [],
   "source": [
    "    "
   ]
  },
  {
   "cell_type": "code",
   "execution_count": null,
   "id": "050392af",
   "metadata": {},
   "outputs": [],
   "source": []
  },
  {
   "cell_type": "code",
   "execution_count": null,
   "id": "1272b240",
   "metadata": {},
   "outputs": [],
   "source": []
  },
  {
   "cell_type": "code",
   "execution_count": null,
   "id": "b90f594b",
   "metadata": {},
   "outputs": [],
   "source": []
  },
  {
   "cell_type": "code",
   "execution_count": null,
   "id": "f012ae56",
   "metadata": {},
   "outputs": [],
   "source": []
  },
  {
   "cell_type": "code",
   "execution_count": 85,
   "id": "8f364c69",
   "metadata": {},
   "outputs": [
    {
     "name": "stdout",
     "output_type": "stream",
     "text": [
      "Enter the email id : yadavdipakkr@gmail.com\n"
     ]
    }
   ],
   "source": [
    "email=input(\"Enter the email id : \")"
   ]
  },
  {
   "cell_type": "code",
   "execution_count": 86,
   "id": "8e94cd48",
   "metadata": {},
   "outputs": [],
   "source": [
    "email_len=len(email)\n",
    "position=email.index('@')\n",
    "user_namme=email[:position]\n",
    "domain=email[position+1:]"
   ]
  },
  {
   "cell_type": "code",
   "execution_count": 87,
   "id": "7d584c75",
   "metadata": {},
   "outputs": [
    {
     "name": "stdout",
     "output_type": "stream",
     "text": [
      "Your user name id:  yadavdipakkr  and domain is : gmail.com\n"
     ]
    }
   ],
   "source": [
    "print(\"Your user name id: \", user_namme, \" and domain is :\",  domain)"
   ]
  },
  {
   "cell_type": "code",
   "execution_count": 54,
   "id": "25380d02",
   "metadata": {},
   "outputs": [],
   "source": []
  },
  {
   "cell_type": "code",
   "execution_count": 68,
   "id": "ce84eedb",
   "metadata": {},
   "outputs": [],
   "source": []
  },
  {
   "cell_type": "code",
   "execution_count": null,
   "id": "635b3f91",
   "metadata": {},
   "outputs": [],
   "source": []
  },
  {
   "cell_type": "code",
   "execution_count": null,
   "id": "576b26ba",
   "metadata": {},
   "outputs": [],
   "source": []
  },
  {
   "cell_type": "code",
   "execution_count": null,
   "id": "a46287c2",
   "metadata": {},
   "outputs": [],
   "source": []
  },
  {
   "cell_type": "code",
   "execution_count": null,
   "id": "5748336b",
   "metadata": {},
   "outputs": [],
   "source": []
  },
  {
   "cell_type": "code",
   "execution_count": null,
   "id": "28a1aea5",
   "metadata": {},
   "outputs": [],
   "source": []
  }
 ],
 "metadata": {
  "kernelspec": {
   "display_name": "Python 3 (ipykernel)",
   "language": "python",
   "name": "python3"
  },
  "language_info": {
   "codemirror_mode": {
    "name": "ipython",
    "version": 3
   },
   "file_extension": ".py",
   "mimetype": "text/x-python",
   "name": "python",
   "nbconvert_exporter": "python",
   "pygments_lexer": "ipython3",
   "version": "3.9.7"
  }
 },
 "nbformat": 4,
 "nbformat_minor": 5
}
